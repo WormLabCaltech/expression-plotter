{
 "cells": [
  {
   "cell_type": "code",
   "execution_count": 1,
   "metadata": {
    "collapsed": true
   },
   "outputs": [],
   "source": [
    "import pandas as pd\n",
    "import numpy as np\n",
    "import analyzer as ana\n",
    "import plotter as ptr\n",
    "\n",
    "# Graphics\n",
    "import matplotlib as mpl\n",
    "import matplotlib.pyplot as plt\n",
    "import seaborn as sns\n",
    "from matplotlib import rc\n",
    "import matplotlib.dates as mdates\n",
    "\n",
    "# rc('text', usetex=True)\n",
    "# rc('text.latex', preamble=r'\\usepackage{cmbright}')\n",
    "# rc('font', **{'family': 'sans-serif', 'sans-serif': ['Helvetica']})\n",
    "\n",
    "# Magic function to make matplotlib inline;\n",
    "%matplotlib inline\n",
    "\n",
    "# This enables SVG graphics inline. \n",
    "# There is a bug, so uncomment if it works.\n",
    "# %config InlineBackend.figure_formats = {'png', 'retina'}\n",
    "\n",
    "# JB's favorite Seaborn settings for notebooks\n",
    "rc = {'lines.linewidth': 2, \n",
    "      'axes.labelsize': 18, \n",
    "      'axes.titlesize': 18, \n",
    "      'axes.facecolor': 'DFDFE5'}\n",
    "sns.set_context('notebook', rc=rc)\n",
    "sns.set_style(\"dark\")\n",
    "\n",
    "mpl.rcParams['xtick.labelsize'] = 16 \n",
    "mpl.rcParams['ytick.labelsize'] = 16 \n",
    "mpl.rcParams['legend.fontsize'] = 14"
   ]
  },
  {
   "cell_type": "code",
   "execution_count": 5,
   "metadata": {
    "collapsed": true
   },
   "outputs": [],
   "source": [
    "df = pd.read_csv('../test_data/cgal_2b.csv')"
   ]
  },
  {
   "cell_type": "code",
   "execution_count": 6,
   "metadata": {
    "collapsed": false
   },
   "outputs": [
    {
     "data": {
      "text/html": [
       "<div>\n",
       "<style>\n",
       "    .dataframe thead tr:only-child th {\n",
       "        text-align: right;\n",
       "    }\n",
       "\n",
       "    .dataframe thead th {\n",
       "        text-align: left;\n",
       "    }\n",
       "\n",
       "    .dataframe tbody tr th {\n",
       "        vertical-align: top;\n",
       "    }\n",
       "</style>\n",
       "<table border=\"1\" class=\"dataframe\">\n",
       "  <thead>\n",
       "    <tr style=\"text-align: right;\">\n",
       "      <th></th>\n",
       "      <th>sc-15</th>\n",
       "      <th>sc-20</th>\n",
       "      <th>sc-25</th>\n",
       "      <th>sk-15</th>\n",
       "      <th>sk-20</th>\n",
       "      <th>sk-25</th>\n",
       "      <th>m3-15</th>\n",
       "      <th>m3-20</th>\n",
       "      <th>m3-25</th>\n",
       "    </tr>\n",
       "  </thead>\n",
       "  <tbody>\n",
       "    <tr>\n",
       "      <th>0</th>\n",
       "      <td>1298.547</td>\n",
       "      <td>2737.135</td>\n",
       "      <td>16499.30</td>\n",
       "      <td>8978.031</td>\n",
       "      <td>14251.97</td>\n",
       "      <td>16593.960</td>\n",
       "      <td>20722.62</td>\n",
       "      <td>11703.01</td>\n",
       "      <td>17073.800</td>\n",
       "    </tr>\n",
       "    <tr>\n",
       "      <th>1</th>\n",
       "      <td>6798.146</td>\n",
       "      <td>12185.360</td>\n",
       "      <td>12672.19</td>\n",
       "      <td>11221.130</td>\n",
       "      <td>13616.94</td>\n",
       "      <td>6910.673</td>\n",
       "      <td>10373.52</td>\n",
       "      <td>17025.58</td>\n",
       "      <td>15379.370</td>\n",
       "    </tr>\n",
       "    <tr>\n",
       "      <th>2</th>\n",
       "      <td>10686.910</td>\n",
       "      <td>1532.901</td>\n",
       "      <td>15832.53</td>\n",
       "      <td>9460.200</td>\n",
       "      <td>17474.90</td>\n",
       "      <td>20934.660</td>\n",
       "      <td>21707.12</td>\n",
       "      <td>17499.83</td>\n",
       "      <td>16991.490</td>\n",
       "    </tr>\n",
       "    <tr>\n",
       "      <th>3</th>\n",
       "      <td>2018.864</td>\n",
       "      <td>2357.752</td>\n",
       "      <td>15065.03</td>\n",
       "      <td>9049.072</td>\n",
       "      <td>16042.57</td>\n",
       "      <td>18042.750</td>\n",
       "      <td>21750.27</td>\n",
       "      <td>15657.50</td>\n",
       "      <td>13393.350</td>\n",
       "    </tr>\n",
       "    <tr>\n",
       "      <th>4</th>\n",
       "      <td>1551.396</td>\n",
       "      <td>1888.596</td>\n",
       "      <td>16960.67</td>\n",
       "      <td>14132.810</td>\n",
       "      <td>12867.40</td>\n",
       "      <td>23189.560</td>\n",
       "      <td>20820.26</td>\n",
       "      <td>11383.33</td>\n",
       "      <td>7709.297</td>\n",
       "    </tr>\n",
       "  </tbody>\n",
       "</table>\n",
       "</div>"
      ],
      "text/plain": [
       "       sc-15      sc-20     sc-25      sk-15     sk-20      sk-25     m3-15  \\\n",
       "0   1298.547   2737.135  16499.30   8978.031  14251.97  16593.960  20722.62   \n",
       "1   6798.146  12185.360  12672.19  11221.130  13616.94   6910.673  10373.52   \n",
       "2  10686.910   1532.901  15832.53   9460.200  17474.90  20934.660  21707.12   \n",
       "3   2018.864   2357.752  15065.03   9049.072  16042.57  18042.750  21750.27   \n",
       "4   1551.396   1888.596  16960.67  14132.810  12867.40  23189.560  20820.26   \n",
       "\n",
       "      m3-20      m3-25  \n",
       "0  11703.01  17073.800  \n",
       "1  17025.58  15379.370  \n",
       "2  17499.83  16991.490  \n",
       "3  15657.50  13393.350  \n",
       "4  11383.33   7709.297  "
      ]
     },
     "execution_count": 6,
     "metadata": {},
     "output_type": "execute_result"
    }
   ],
   "source": [
    "df.head()"
   ]
  },
  {
   "cell_type": "code",
   "execution_count": 7,
   "metadata": {
    "collapsed": true
   },
   "outputs": [],
   "source": [
    "df = pd.melt(df, var_name='Name-Temperature', value_name='Fluorescence intensity (a.u.)')"
   ]
  },
  {
   "cell_type": "code",
   "execution_count": 9,
   "metadata": {
    "collapsed": false
   },
   "outputs": [],
   "source": [
    "df.dropna(inplace=True)"
   ]
  },
  {
   "cell_type": "code",
   "execution_count": 10,
   "metadata": {
    "collapsed": false
   },
   "outputs": [
    {
     "name": "stdout",
     "output_type": "stream",
     "text": [
      "#8 cores detected for this machine.\n",
      "#Starting 8 processes for bootstrapping...\n",
      "#Bootstrapping complete.\n",
      "\n",
      "#P-value matrix:\n",
      "         sc-15    sc-20    sc-25    sk-15    sk-20    sk-25    m3-15    m3-20  \\\n",
      "sc-15      NaN      NaN      NaN      NaN      NaN      NaN      NaN      NaN   \n",
      "sc-20  0.02319      NaN      NaN      NaN      NaN      NaN      NaN      NaN   \n",
      "sc-25  0.00001  0.00001      NaN      NaN      NaN      NaN      NaN      NaN   \n",
      "sk-15  0.00001  0.00001  0.00005      NaN      NaN      NaN      NaN      NaN   \n",
      "sk-20  0.00001  0.00001  0.13106  0.00001      NaN      NaN      NaN      NaN   \n",
      "sk-25  0.00001  0.00001  0.00001  0.00001  0.00001      NaN      NaN      NaN   \n",
      "m3-15  0.00001  0.00001  0.01367  0.00038  0.02084  0.48123      NaN      NaN   \n",
      "m3-20  0.00001  0.00001  0.46259  0.01270  0.23184  0.00037  0.01882      NaN   \n",
      "m3-25  0.00001  0.00001  0.50037  0.00008  0.12600  0.00001  0.01377  0.46063   \n",
      "\n",
      "       m3-25  \n",
      "sc-15    NaN  \n",
      "sc-20    NaN  \n",
      "sc-25    NaN  \n",
      "sk-15    NaN  \n",
      "sk-20    NaN  \n",
      "sk-25    NaN  \n",
      "m3-15    NaN  \n",
      "m3-20    NaN  \n",
      "m3-25    NaN  \n",
      "\n"
     ]
    }
   ],
   "source": [
    "p_vals = ana.calculate_pvalues(df, blabel='Name-Temperature', mlabel='Fluorescence intensity (a.u.)', n=10**5, f=np.mean)"
   ]
  },
  {
   "cell_type": "code",
   "execution_count": 11,
   "metadata": {
    "collapsed": false
   },
   "outputs": [
    {
     "name": "stdout",
     "output_type": "stream",
     "text": [
      "#Q-value matrix:\n",
      "          sc-15    sc-20     sc-25     sk-15     sk-20     sk-25     m3-15  \\\n",
      "sc-15       NaN      NaN       NaN       NaN       NaN       NaN       NaN   \n",
      "sc-20  0.028788      NaN       NaN       NaN       NaN       NaN       NaN   \n",
      "sc-25  0.000360  0.00036       NaN       NaN       NaN       NaN       NaN   \n",
      "sk-15  0.000360  0.00036  0.000360       NaN       NaN       NaN       NaN   \n",
      "sk-20  0.000360  0.00036  0.152199  0.000360       NaN       NaN       NaN   \n",
      "sk-25  0.000360  0.00036  0.000360  0.000360  0.000360       NaN       NaN   \n",
      "m3-15  0.000360  0.00036  0.019685  0.000605  0.026794  0.502505       NaN   \n",
      "m3-20  0.000360  0.00036  0.502505  0.019050  0.260820  0.000605  0.025093   \n",
      "m3-25  0.000360  0.00036  0.502505  0.000360  0.151200  0.000360  0.019685   \n",
      "\n",
      "          m3-20  m3-25  \n",
      "sc-15       NaN    NaN  \n",
      "sc-20       NaN    NaN  \n",
      "sc-25       NaN    NaN  \n",
      "sk-15       NaN    NaN  \n",
      "sk-20       NaN    NaN  \n",
      "sk-25       NaN    NaN  \n",
      "m3-15       NaN    NaN  \n",
      "m3-20       NaN    NaN  \n",
      "m3-25  0.502505    NaN  \n"
     ]
    }
   ],
   "source": [
    "q_vals = ana.calculate_qvalues(p_vals)"
   ]
  },
  {
   "cell_type": "code",
   "execution_count": 12,
   "metadata": {
    "collapsed": false
   },
   "outputs": [
    {
     "name": "stdout",
     "output_type": "stream",
     "text": [
      "#Plotting heatmap\n"
     ]
    },
    {
     "data": {
      "image/png": "[encoded data removed]",
      "text/plain": [
       "<matplotlib.figure.Figure at 0x220e6c0f550>"
      ]
     },
     "metadata": {},
     "output_type": "display_data"
    }
   ],
   "source": [
    "ptr.plot_heatmap(df, p_vals, 'Name-Temperature', 'Fluorescence intensity (a.u.)', 0.05, f=np.mean)"
   ]
  },
  {
   "cell_type": "code",
   "execution_count": null,
   "metadata": {
    "collapsed": true
   },
   "outputs": [],
   "source": []
  }
 ],
 "metadata": {
  "kernelspec": {
   "display_name": "Python 3",
   "language": "python",
   "name": "python3"
  },
  "language_info": {
   "codemirror_mode": {
    "name": "ipython",
    "version": 3
   },
   "file_extension": ".py",
   "mimetype": "text/x-python",
   "name": "python",
   "nbconvert_exporter": "python",
   "pygments_lexer": "ipython3",
   "version": "3.6.0"
  }
 },
 "nbformat": 4,
 "nbformat_minor": 2
}
