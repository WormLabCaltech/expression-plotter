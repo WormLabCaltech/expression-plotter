{
 "cells": [
  {
   "cell_type": "code",
   "execution_count": 1,
   "metadata": {
    "collapsed": true
   },
   "outputs": [],
   "source": [
    "import pandas as pd\n",
    "import numpy as np\n",
    "import scipy.stats as st\n",
    "\n",
    "# Graphics\n",
    "import matplotlib as mpl\n",
    "import matplotlib.pyplot as plt\n",
    "import seaborn as sns\n",
    "from matplotlib import rc\n",
    "import matplotlib.dates as mdates\n",
    "\n",
    "# rc('text', usetex=True)\n",
    "# rc('text.latex', preamble=r'\\usepackage{cmbright}')\n",
    "# rc('font', **{'family': 'sans-serif', 'sans-serif': ['Helvetica']})\n",
    "\n",
    "# Magic function to make matplotlib inline;\n",
    "%matplotlib inline\n",
    "\n",
    "# This enables SVG graphics inline. \n",
    "# There is a bug, so uncomment if it works.\n",
    "# %config InlineBackend.figure_formats = {'png', 'retina'}\n",
    "\n",
    "# JB's favorite Seaborn settings for notebooks\n",
    "rc = {'lines.linewidth': 2, \n",
    "      'axes.labelsize': 18, \n",
    "      'axes.titlesize': 18, \n",
    "      'axes.facecolor': 'DFDFE5'}\n",
    "sns.set_context('notebook', rc=rc)\n",
    "sns.set_style(\"dark\")\n",
    "\n",
    "mpl.rcParams['xtick.labelsize'] = 16 \n",
    "mpl.rcParams['ytick.labelsize'] = 16 \n",
    "mpl.rcParams['legend.fontsize'] = 14"
   ]
  },
  {
   "cell_type": "code",
   "execution_count": 2,
   "metadata": {
    "collapsed": true
   },
   "outputs": [],
   "source": [
    "df = pd.read_csv('../simulation_output/binary/run1/sim3.csv')"
   ]
  },
  {
   "cell_type": "code",
   "execution_count": 3,
   "metadata": {
    "collapsed": false
   },
   "outputs": [
    {
     "data": {
      "text/html": [
       "<div>\n",
       "<style>\n",
       "    .dataframe thead tr:only-child th {\n",
       "        text-align: right;\n",
       "    }\n",
       "\n",
       "    .dataframe thead th {\n",
       "        text-align: left;\n",
       "    }\n",
       "\n",
       "    .dataframe tbody tr th {\n",
       "        vertical-align: top;\n",
       "    }\n",
       "</style>\n",
       "<table border=\"1\" class=\"dataframe\">\n",
       "  <thead>\n",
       "    <tr style=\"text-align: right;\">\n",
       "      <th></th>\n",
       "      <th>dist</th>\n",
       "      <th>p</th>\n",
       "      <th>t</th>\n",
       "      <th>p_t_2</th>\n",
       "      <th>p_t_1</th>\n",
       "    </tr>\n",
       "  </thead>\n",
       "  <tbody>\n",
       "    <tr>\n",
       "      <th>0</th>\n",
       "      <td>0.00</td>\n",
       "      <td>0.00001</td>\n",
       "      <td>71.464723</td>\n",
       "      <td>3.268356e-51</td>\n",
       "      <td>1.634178e-51</td>\n",
       "    </tr>\n",
       "    <tr>\n",
       "      <th>1</th>\n",
       "      <td>0.00</td>\n",
       "      <td>0.00001</td>\n",
       "      <td>71.464723</td>\n",
       "      <td>3.268356e-51</td>\n",
       "      <td>1.634178e-51</td>\n",
       "    </tr>\n",
       "    <tr>\n",
       "      <th>2</th>\n",
       "      <td>0.01</td>\n",
       "      <td>0.00001</td>\n",
       "      <td>62.951518</td>\n",
       "      <td>1.983880e-51</td>\n",
       "      <td>9.919400e-52</td>\n",
       "    </tr>\n",
       "    <tr>\n",
       "      <th>3</th>\n",
       "      <td>0.01</td>\n",
       "      <td>0.00001</td>\n",
       "      <td>62.951518</td>\n",
       "      <td>1.983880e-51</td>\n",
       "      <td>9.919400e-52</td>\n",
       "    </tr>\n",
       "    <tr>\n",
       "      <th>4</th>\n",
       "      <td>0.02</td>\n",
       "      <td>0.00001</td>\n",
       "      <td>68.606838</td>\n",
       "      <td>3.743764e-56</td>\n",
       "      <td>1.871882e-56</td>\n",
       "    </tr>\n",
       "  </tbody>\n",
       "</table>\n",
       "</div>"
      ],
      "text/plain": [
       "   dist        p          t         p_t_2         p_t_1\n",
       "0  0.00  0.00001  71.464723  3.268356e-51  1.634178e-51\n",
       "1  0.00  0.00001  71.464723  3.268356e-51  1.634178e-51\n",
       "2  0.01  0.00001  62.951518  1.983880e-51  9.919400e-52\n",
       "3  0.01  0.00001  62.951518  1.983880e-51  9.919400e-52\n",
       "4  0.02  0.00001  68.606838  3.743764e-56  1.871882e-56"
      ]
     },
     "execution_count": 3,
     "metadata": {},
     "output_type": "execute_result"
    }
   ],
   "source": [
    "df.head()"
   ]
  },
  {
   "cell_type": "code",
   "execution_count": 4,
   "metadata": {
    "collapsed": false
   },
   "outputs": [
    {
     "data": {
      "text/plain": [
       "<matplotlib.text.Text at 0x21f856161d0>"
      ]
     },
     "execution_count": 4,
     "metadata": {},
     "output_type": "execute_result"
    },
    {
     "data": {
      "image/png": "[encoded data removed]",
      "text/plain": [
       "<matplotlib.figure.Figure at 0x21f855e21d0>"
      ]
     },
     "metadata": {},
     "output_type": "display_data"
    }
   ],
   "source": [
    "fig, ax = plt.subplots(figsize=(8,5))\n",
    "\n",
    "sns.regplot(data=df, x='p', y='p_t_1', scatter_kws={'s': 20, 'alpha':1},\n",
    "            line_kws={'ls':'--', 'lw':1, 'color':'red', 'label': 'best fit line'}, ax=ax, fit_reg=False)\n",
    "plt.axvline(10**-5, ls='-.', color='k', lw=1, label=r'$1/N_{bootstraps}$')\n",
    "plt.plot(np.linspace(10**-7, 10), np.linspace(10**-7, 10), '--', lw=1, color='red', label=r'$p_t = p_{btsrp}$')\n",
    "\n",
    "plt.xlim(10**-6, 1)\n",
    "plt.ylim(10**-6, 1)\n",
    "\n",
    "plt.legend()\n",
    "\n",
    "plt.xscale('log')\n",
    "plt.yscale('log')\n",
    "\n",
    "plt.xticks([0.000001, 0.001, 1])\n",
    "plt.yticks([0.000001, 0.001, 1])\n",
    "\n",
    "plt.xlabel(r'$p$-value, bootstrapped')\n",
    "plt.ylabel(r'$p$-value, t-test')\n",
    "\n",
    "# plt.savefig('../simulation_output/plots/run2_sim3.svg', bbox_inches='tight')"
   ]
  },
  {
   "cell_type": "code",
   "execution_count": 5,
   "metadata": {
    "collapsed": true
   },
   "outputs": [],
   "source": [
    "df2 = pd.read_csv('../simulation_output/binary/sim3.csv')"
   ]
  },
  {
   "cell_type": "code",
   "execution_count": 6,
   "metadata": {
    "collapsed": false
   },
   "outputs": [
    {
     "data": {
      "text/html": [
       "<div>\n",
       "<style>\n",
       "    .dataframe thead tr:only-child th {\n",
       "        text-align: right;\n",
       "    }\n",
       "\n",
       "    .dataframe thead th {\n",
       "        text-align: left;\n",
       "    }\n",
       "\n",
       "    .dataframe tbody tr th {\n",
       "        vertical-align: top;\n",
       "    }\n",
       "</style>\n",
       "<table border=\"1\" class=\"dataframe\">\n",
       "  <thead>\n",
       "    <tr style=\"text-align: right;\">\n",
       "      <th></th>\n",
       "      <th>dist</th>\n",
       "      <th>p</th>\n",
       "      <th>t</th>\n",
       "      <th>p_t_2</th>\n",
       "      <th>p_t_1</th>\n",
       "    </tr>\n",
       "  </thead>\n",
       "  <tbody>\n",
       "    <tr>\n",
       "      <th>0</th>\n",
       "      <td>0.400</td>\n",
       "      <td>0.00001</td>\n",
       "      <td>9.261119</td>\n",
       "      <td>8.010978e-15</td>\n",
       "      <td>4.005489e-15</td>\n",
       "    </tr>\n",
       "    <tr>\n",
       "      <th>1</th>\n",
       "      <td>0.400</td>\n",
       "      <td>0.00001</td>\n",
       "      <td>9.261119</td>\n",
       "      <td>8.010978e-15</td>\n",
       "      <td>4.005489e-15</td>\n",
       "    </tr>\n",
       "    <tr>\n",
       "      <th>2</th>\n",
       "      <td>0.401</td>\n",
       "      <td>0.00001</td>\n",
       "      <td>12.380494</td>\n",
       "      <td>1.434464e-21</td>\n",
       "      <td>7.172321e-22</td>\n",
       "    </tr>\n",
       "    <tr>\n",
       "      <th>3</th>\n",
       "      <td>0.401</td>\n",
       "      <td>0.00001</td>\n",
       "      <td>12.380494</td>\n",
       "      <td>1.434464e-21</td>\n",
       "      <td>7.172321e-22</td>\n",
       "    </tr>\n",
       "    <tr>\n",
       "      <th>4</th>\n",
       "      <td>0.402</td>\n",
       "      <td>0.00001</td>\n",
       "      <td>12.404824</td>\n",
       "      <td>1.022697e-21</td>\n",
       "      <td>5.113483e-22</td>\n",
       "    </tr>\n",
       "  </tbody>\n",
       "</table>\n",
       "</div>"
      ],
      "text/plain": [
       "    dist        p          t         p_t_2         p_t_1\n",
       "0  0.400  0.00001   9.261119  8.010978e-15  4.005489e-15\n",
       "1  0.400  0.00001   9.261119  8.010978e-15  4.005489e-15\n",
       "2  0.401  0.00001  12.380494  1.434464e-21  7.172321e-22\n",
       "3  0.401  0.00001  12.380494  1.434464e-21  7.172321e-22\n",
       "4  0.402  0.00001  12.404824  1.022697e-21  5.113483e-22"
      ]
     },
     "execution_count": 6,
     "metadata": {},
     "output_type": "execute_result"
    }
   ],
   "source": [
    "df2.head()"
   ]
  },
  {
   "cell_type": "code",
   "execution_count": 7,
   "metadata": {
    "collapsed": false
   },
   "outputs": [
    {
     "data": {
      "text/plain": [
       "<matplotlib.text.Text at 0x21f85b2bb00>"
      ]
     },
     "execution_count": 7,
     "metadata": {},
     "output_type": "execute_result"
    },
    {
     "data": {
      "image/png": "[encoded data removed]",
      "text/plain": [
       "<matplotlib.figure.Figure at 0x21f86dd4f98>"
      ]
     },
     "metadata": {},
     "output_type": "display_data"
    }
   ],
   "source": [
    "fig, ax = plt.subplots(figsize=(8,5))\n",
    "\n",
    "sns.regplot(data=df2, x='p', y='p_t_1', scatter_kws={'s': 20, 'alpha':1},\n",
    "            line_kws={'ls':'--', 'lw':1, 'color':'red', 'label': 'best fit line'}, ax=ax, fit_reg=False)\n",
    "plt.axvline(10**-5, ls='-.', color='k', lw=1, label=r'$1/N_{bootstraps}$')\n",
    "plt.plot(np.linspace(10**-7, 10), np.linspace(10**-7, 10), '--', lw=1, color='red', label=r'$p_t = p_{btsrp}$')\n",
    "\n",
    "plt.xlim(10**-6, 1)\n",
    "plt.ylim(10**-6, 1)\n",
    "\n",
    "plt.legend()\n",
    "\n",
    "plt.xscale('log')\n",
    "plt.yscale('log')\n",
    "\n",
    "plt.xticks([0.000001, 0.001, 1])\n",
    "plt.yticks([0.000001, 0.001, 1])\n",
    "\n",
    "plt.xlabel(r'$p$-value, bootstrapped')\n",
    "plt.ylabel(r'$p$-value, t-test')\n",
    "\n",
    "# plt.savefig('../simulation_output/plots/run2_sim3.svg', bbox_inches='tight')"
   ]
  },
  {
   "cell_type": "code",
   "execution_count": null,
   "metadata": {
    "collapsed": true
   },
   "outputs": [],
   "source": []
  }
 ],
 "metadata": {
  "kernelspec": {
   "display_name": "Python 3",
   "language": "python",
   "name": "python3"
  },
  "language_info": {
   "codemirror_mode": {
    "name": "ipython",
    "version": 3
   },
   "file_extension": ".py",
   "mimetype": "text/x-python",
   "name": "python",
   "nbconvert_exporter": "python",
   "pygments_lexer": "ipython3",
   "version": "3.6.0"
  }
 },
 "nbformat": 4,
 "nbformat_minor": 2
}
