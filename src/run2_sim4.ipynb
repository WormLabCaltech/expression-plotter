{
 "cells": [
  {
   "cell_type": "code",
   "execution_count": 1,
   "metadata": {
    "collapsed": true
   },
   "outputs": [],
   "source": [
    "import pandas as pd\n",
    "import numpy as np\n",
    "\n",
    "# Graphics\n",
    "import matplotlib as mpl\n",
    "import matplotlib.pyplot as plt\n",
    "import seaborn as sns\n",
    "from matplotlib import rc\n",
    "import matplotlib.dates as mdates\n",
    "\n",
    "# rc('text', usetex=True)\n",
    "# rc('text.latex', preamble=r'\\usepackage{cmbright}')\n",
    "# rc('font', **{'family': 'sans-serif', 'sans-serif': ['Helvetica']})\n",
    "\n",
    "# Magic function to make matplotlib inline;\n",
    "%matplotlib inline\n",
    "\n",
    "# This enables SVG graphics inline. \n",
    "# There is a bug, so uncomment if it works.\n",
    "# %config InlineBackend.figure_formats = {'png', 'retina'}\n",
    "\n",
    "# JB's favorite Seaborn settings for notebooks\n",
    "rc = {'lines.linewidth': 2, \n",
    "      'axes.labelsize': 18, \n",
    "      'axes.titlesize': 18, \n",
    "      'axes.facecolor': 'DFDFE5'}\n",
    "sns.set_context('notebook', rc=rc)\n",
    "sns.set_style(\"dark\")\n",
    "\n",
    "mpl.rcParams['xtick.labelsize'] = 16 \n",
    "mpl.rcParams['ytick.labelsize'] = 16 \n",
    "mpl.rcParams['legend.fontsize'] = 14"
   ]
  },
  {
   "cell_type": "code",
   "execution_count": 7,
   "metadata": {
    "collapsed": true
   },
   "outputs": [],
   "source": [
    "df = pd.read_csv('../simulation_output/run2/sim5.csv')"
   ]
  },
  {
   "cell_type": "code",
   "execution_count": 8,
   "metadata": {},
   "outputs": [
    {
     "data": {
      "text/html": [
       "<div>\n",
       "<style>\n",
       "    .dataframe thead tr:only-child th {\n",
       "        text-align: right;\n",
       "    }\n",
       "\n",
       "    .dataframe thead th {\n",
       "        text-align: left;\n",
       "    }\n",
       "\n",
       "    .dataframe tbody tr th {\n",
       "        vertical-align: top;\n",
       "    }\n",
       "</style>\n",
       "<table border=\"1\" class=\"dataframe\">\n",
       "  <thead>\n",
       "    <tr style=\"text-align: right;\">\n",
       "      <th></th>\n",
       "      <th>delta</th>\n",
       "      <th>p</th>\n",
       "      <th>corr_p</th>\n",
       "      <th>t</th>\n",
       "      <th>p_t (two)</th>\n",
       "      <th>p_t (one)</th>\n",
       "    </tr>\n",
       "  </thead>\n",
       "  <tbody>\n",
       "    <tr>\n",
       "      <th>0</th>\n",
       "      <td>-200</td>\n",
       "      <td>0.00001</td>\n",
       "      <td>0.00001</td>\n",
       "      <td>11.154819</td>\n",
       "      <td>7.771455e-19</td>\n",
       "      <td>3.885728e-19</td>\n",
       "    </tr>\n",
       "    <tr>\n",
       "      <th>1</th>\n",
       "      <td>-199</td>\n",
       "      <td>0.00001</td>\n",
       "      <td>0.00001</td>\n",
       "      <td>14.356868</td>\n",
       "      <td>1.804910e-24</td>\n",
       "      <td>9.024548e-25</td>\n",
       "    </tr>\n",
       "    <tr>\n",
       "      <th>2</th>\n",
       "      <td>-198</td>\n",
       "      <td>0.00001</td>\n",
       "      <td>0.00001</td>\n",
       "      <td>10.700830</td>\n",
       "      <td>4.628645e-18</td>\n",
       "      <td>2.314323e-18</td>\n",
       "    </tr>\n",
       "    <tr>\n",
       "      <th>3</th>\n",
       "      <td>-197</td>\n",
       "      <td>0.00001</td>\n",
       "      <td>0.00001</td>\n",
       "      <td>10.691317</td>\n",
       "      <td>4.021638e-18</td>\n",
       "      <td>2.010819e-18</td>\n",
       "    </tr>\n",
       "    <tr>\n",
       "      <th>4</th>\n",
       "      <td>-196</td>\n",
       "      <td>0.00001</td>\n",
       "      <td>0.00001</td>\n",
       "      <td>7.191542</td>\n",
       "      <td>1.646746e-10</td>\n",
       "      <td>8.233729e-11</td>\n",
       "    </tr>\n",
       "  </tbody>\n",
       "</table>\n",
       "</div>"
      ],
      "text/plain": [
       "   delta        p   corr_p          t     p_t (two)     p_t (one)\n",
       "0   -200  0.00001  0.00001  11.154819  7.771455e-19  3.885728e-19\n",
       "1   -199  0.00001  0.00001  14.356868  1.804910e-24  9.024548e-25\n",
       "2   -198  0.00001  0.00001  10.700830  4.628645e-18  2.314323e-18\n",
       "3   -197  0.00001  0.00001  10.691317  4.021638e-18  2.010819e-18\n",
       "4   -196  0.00001  0.00001   7.191542  1.646746e-10  8.233729e-11"
      ]
     },
     "execution_count": 8,
     "metadata": {},
     "output_type": "execute_result"
    }
   ],
   "source": [
    "df.head()"
   ]
  },
  {
   "cell_type": "code",
   "execution_count": 9,
   "metadata": {},
   "outputs": [
    {
     "data": {
      "image/png": "[encoded data removed]",
      "text/plain": [
       "<matplotlib.figure.Figure at 0x1e73ec34470>"
      ]
     },
     "metadata": {},
     "output_type": "display_data"
    }
   ],
   "source": [
    "fig, ax = plt.subplots(figsize=(8,5))\n",
    "\n",
    "sns.regplot(data=df, x='corr_p', y='p_t (one)', scatter_kws={'s': 20, 'alpha':1},\n",
    "            line_kws={'ls':'--', 'lw':1, 'color':'red', 'label': 'best fit line'}, ax=ax, fit_reg=False)\n",
    "plt.axvline(10**-5, ls='-.', color='k', lw=1, label=r'$1/N_{bootstraps}$')\n",
    "plt.plot(np.linspace(10**-7, 10), np.linspace(10**-7, 10), '--', lw=1, color='red', label=r'$p_t = p_{btsrp}$')\n",
    "\n",
    "plt.xlim(10**-6, 1)\n",
    "plt.ylim(10**-6, 1)\n",
    "\n",
    "plt.legend()\n",
    "\n",
    "plt.xscale('log')\n",
    "plt.yscale('log')\n",
    "\n",
    "plt.xticks([0.000001, 0.001, 1])\n",
    "plt.yticks([0.000001, 0.001, 1])\n",
    "\n",
    "plt.xlabel(r'$p$-value, bootstrapped')\n",
    "plt.ylabel(r'$p$-value, t-test')\n",
    "\n",
    "plt.savefig('../simulation_output/plots/run2_sim4.svg', bbox_inches='tight')"
   ]
  },
  {
   "cell_type": "code",
   "execution_count": null,
   "metadata": {
    "collapsed": true
   },
   "outputs": [],
   "source": []
  }
 ],
 "metadata": {
  "kernelspec": {
   "display_name": "Python 3",
   "language": "python",
   "name": "python3"
  },
  "language_info": {
   "codemirror_mode": {
    "name": "ipython",
    "version": 3
   },
   "file_extension": ".py",
   "mimetype": "text/x-python",
   "name": "python",
   "nbconvert_exporter": "python",
   "pygments_lexer": "ipython3",
   "version": "3.6.2"
  }
 },
 "nbformat": 4,
 "nbformat_minor": 2
}
