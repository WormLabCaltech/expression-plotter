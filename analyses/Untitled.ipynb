{
 "cells": [
  {
   "cell_type": "code",
   "execution_count": 1,
   "metadata": {
    "collapsed": true
   },
   "outputs": [],
   "source": [
    "# make analyzer.py visible\n",
    "import sys\n",
    "sys.path.insert(0, './../src/')\n",
    "\n",
    "import analyzer_binary as ana\n",
    "import pandas as pd\n",
    "import numpy as np\n",
    "\n",
    "# Graphics\n",
    "import matplotlib as mpl\n",
    "import matplotlib.pyplot as plt\n",
    "import seaborn as sns\n",
    "from matplotlib import rc\n",
    "import matplotlib.dates as mdates\n",
    "\n",
    "# rc('text', usetex=True)\n",
    "# rc('text.latex', preamble=r'\\usepackage{cmbright}')\n",
    "# rc('font', **{'family': 'sans-serif', 'sans-serif': ['Helvetica']})\n",
    "\n",
    "# Magic function to make matplotlib inline;\n",
    "%matplotlib inline\n",
    "\n",
    "# This enables SVG graphics inline. \n",
    "# There is a bug, so uncomment if it works.\n",
    "# %config InlineBackend.figure_formats = {'png', 'retina'}\n",
    "\n",
    "# JB's favorite Seaborn settings for notebooks\n",
    "rc = {'lines.linewidth': 2, \n",
    "      'axes.labelsize': 18, \n",
    "      'axes.titlesize': 18, \n",
    "      'axes.facecolor': 'DFDFE5'}\n",
    "sns.set_context('notebook', rc=rc)\n",
    "sns.set_style(\"dark\")\n",
    "\n",
    "mpl.rcParams['xtick.labelsize'] = 16 \n",
    "mpl.rcParams['ytick.labelsize'] = 16 \n",
    "mpl.rcParams['legend.fontsize'] = 14"
   ]
  },
  {
   "cell_type": "code",
   "execution_count": 2,
   "metadata": {
    "collapsed": true
   },
   "outputs": [],
   "source": [
    "df = pd.read_csv('tidy_sleep_df.csv', index_col=0)"
   ]
  },
  {
   "cell_type": "code",
   "execution_count": 7,
   "metadata": {},
   "outputs": [
    {
     "data": {
      "text/html": [
       "<div>\n",
       "<style>\n",
       "    .dataframe thead tr:only-child th {\n",
       "        text-align: right;\n",
       "    }\n",
       "\n",
       "    .dataframe thead th {\n",
       "        text-align: left;\n",
       "    }\n",
       "\n",
       "    .dataframe tbody tr th {\n",
       "        vertical-align: top;\n",
       "    }\n",
       "</style>\n",
       "<table border=\"1\" class=\"dataframe\">\n",
       "  <thead>\n",
       "    <tr style=\"text-align: right;\">\n",
       "      <th></th>\n",
       "      <th>index</th>\n",
       "      <th>ID</th>\n",
       "      <th>Date</th>\n",
       "      <th>HS time</th>\n",
       "      <th>phenotype</th>\n",
       "      <th>number</th>\n",
       "      <th>freq</th>\n",
       "      <th>total</th>\n",
       "      <th>suppressors</th>\n",
       "    </tr>\n",
       "  </thead>\n",
       "  <tbody>\n",
       "    <tr>\n",
       "      <th>0</th>\n",
       "      <td>0</td>\n",
       "      <td>A-7-3.3</td>\n",
       "      <td>7/21/17</td>\n",
       "      <td>15</td>\n",
       "      <td>L</td>\n",
       "      <td>aaaaaaaaaaa</td>\n",
       "      <td>0.000000</td>\n",
       "      <td>11</td>\n",
       "      <td>0</td>\n",
       "    </tr>\n",
       "    <tr>\n",
       "      <th>1</th>\n",
       "      <td>1</td>\n",
       "      <td>A-7-3.1</td>\n",
       "      <td>7/21/17</td>\n",
       "      <td>15</td>\n",
       "      <td>L</td>\n",
       "      <td>sssaaaaa</td>\n",
       "      <td>0.375000</td>\n",
       "      <td>8</td>\n",
       "      <td>3</td>\n",
       "    </tr>\n",
       "    <tr>\n",
       "      <th>2</th>\n",
       "      <td>2</td>\n",
       "      <td>PS7244</td>\n",
       "      <td>7/22/17</td>\n",
       "      <td>15</td>\n",
       "      <td>L</td>\n",
       "      <td>aaaaaaaaaaaaaaaaa</td>\n",
       "      <td>0.000000</td>\n",
       "      <td>17</td>\n",
       "      <td>0</td>\n",
       "    </tr>\n",
       "    <tr>\n",
       "      <th>3</th>\n",
       "      <td>3</td>\n",
       "      <td>A-10-3a</td>\n",
       "      <td>7/22/17</td>\n",
       "      <td>15</td>\n",
       "      <td>L</td>\n",
       "      <td>aaaaaaaaaaaaaaaaas</td>\n",
       "      <td>0.055556</td>\n",
       "      <td>18</td>\n",
       "      <td>1</td>\n",
       "    </tr>\n",
       "    <tr>\n",
       "      <th>4</th>\n",
       "      <td>4</td>\n",
       "      <td>A-10-2a</td>\n",
       "      <td>7/22/17</td>\n",
       "      <td>15</td>\n",
       "      <td>L</td>\n",
       "      <td>aaaaaaaaaaaa</td>\n",
       "      <td>0.000000</td>\n",
       "      <td>12</td>\n",
       "      <td>0</td>\n",
       "    </tr>\n",
       "  </tbody>\n",
       "</table>\n",
       "</div>"
      ],
      "text/plain": [
       "   index       ID     Date HS time phenotype              number      freq  \\\n",
       "0      0  A-7-3.3  7/21/17      15         L         aaaaaaaaaaa  0.000000   \n",
       "1      1  A-7-3.1  7/21/17      15         L            sssaaaaa  0.375000   \n",
       "2      2   PS7244  7/22/17      15         L   aaaaaaaaaaaaaaaaa  0.000000   \n",
       "3      3  A-10-3a  7/22/17      15         L  aaaaaaaaaaaaaaaaas  0.055556   \n",
       "4      4  A-10-2a  7/22/17      15         L        aaaaaaaaaaaa  0.000000   \n",
       "\n",
       "   total  suppressors  \n",
       "0     11            0  \n",
       "1      8            3  \n",
       "2     17            0  \n",
       "3     18            1  \n",
       "4     12            0  "
      ]
     },
     "execution_count": 7,
     "metadata": {},
     "output_type": "execute_result"
    }
   ],
   "source": [
    "df.head()"
   ]
  },
  {
   "cell_type": "code",
   "execution_count": 12,
   "metadata": {},
   "outputs": [],
   "source": [
    "df2 = df[df.total != 0]"
   ]
  },
  {
   "cell_type": "code",
   "execution_count": null,
   "metadata": {},
   "outputs": [
    {
     "name": "stdout",
     "output_type": "stream",
     "text": [
      "#4 cores detected for this machine.\n",
      "#Starting 4 processes for bootstrapping...\n"
     ]
    }
   ],
   "source": [
    "ana.calculate_pvalues(df2[df2.phenotype == 'L'], 'ID', 'total', 'suppressors', 10**5)"
   ]
  },
  {
   "cell_type": "code",
   "execution_count": null,
   "metadata": {
    "collapsed": true
   },
   "outputs": [],
   "source": []
  }
 ],
 "metadata": {
  "kernelspec": {
   "display_name": "Python 3",
   "language": "python",
   "name": "python3"
  },
  "language_info": {
   "codemirror_mode": {
    "name": "ipython",
    "version": 3
   },
   "file_extension": ".py",
   "mimetype": "text/x-python",
   "name": "python",
   "nbconvert_exporter": "python",
   "pygments_lexer": "ipython3",
   "version": "3.6.2"
  }
 },
 "nbformat": 4,
 "nbformat_minor": 2
}
